{
  "nbformat": 4,
  "nbformat_minor": 0,
  "metadata": {
    "colab": {
      "name": "Untitled4.ipynb",
      "provenance": [],
      "toc_visible": true,
      "mount_file_id": "1daSJtdn_AOYUWkjqZY-aeWji_0McF8Dk",
      "authorship_tag": "ABX9TyPWK8bSMEVeGMJUftpVt8sS",
      "include_colab_link": true
    },
    "kernelspec": {
      "name": "python3",
      "display_name": "Python 3"
    },
    "language_info": {
      "name": "python"
    }
  },
  "cells": [
    {
      "cell_type": "markdown",
      "metadata": {
        "id": "view-in-github",
        "colab_type": "text"
      },
      "source": [
        "<a href=\"https://colab.research.google.com/github/CCanxue/CCanxue/blob/main/Untitled4.ipynb\" target=\"_parent\"><img src=\"https://colab.research.google.com/assets/colab-badge.svg\" alt=\"Open In Colab\"/></a>"
      ]
    },
    {
      "cell_type": "code",
      "execution_count": 70,
      "metadata": {
        "colab": {
          "base_uri": "https://localhost:8080/"
        },
        "id": "crsCAZ1HuMXq",
        "outputId": "f43a75eb-3a94-4a8b-c653-d564ad9eea42"
      },
      "outputs": [
        {
          "output_type": "stream",
          "name": "stdout",
          "text": [
            "tensor([1., 2., 3., 4.], dtype=torch.float64) tensor(5., dtype=torch.float64)\n",
            "tensor(11., dtype=torch.float64)\n",
            "tensor([ 8.,  9., 10., 11.], dtype=torch.float64)\n",
            "tensor([[0., 1., 2., 3.],\n",
            "        [4., 5., 6., 7.]], dtype=torch.float64)\n",
            "[1 2 3 4]\n",
            "12\n",
            "139619329859504\n",
            "139619328128880\n"
          ]
        }
      ],
      "source": [
        "#id() dir() help() x[a:b] 从a到b，不包括b\n",
        "import torch\n",
        "import numpy as np\n",
        "z=np.zeros((3,4))\n",
        "z=torch.tensor(z)\n",
        "x=torch.arange(12,dtype=torch.float64)\n",
        "print(x[1:5],x[5])  \n",
        "print(x[-1])   #最后一位\n",
        "x=x.reshape((3,-1))\n",
        "print(x[-1]) \n",
        "print(x[0:-1])  \n",
        "x[0:-1]=9  #x中的全部元素，不管x是几维\n",
        "y=torch.tensor([1,2,3,4])\n",
        "y=y.numpy()\n",
        "print(y)\n",
        "print(x.numel())\n",
        "print(id(x))\n",
        "x=x**z\n",
        "print(id(x))\n"
      ]
    }
  ]
}